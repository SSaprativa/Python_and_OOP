{
 "cells": [
  {
   "cell_type": "markdown",
   "metadata": {},
   "source": [
    "##### Static Array"
   ]
  },
  {
   "cell_type": "code",
   "execution_count": 4,
   "metadata": {},
   "outputs": [
    {
     "name": "stdout",
     "output_type": "stream",
     "text": [
      "[1, 2, 3]\n",
      "[2, 2]\n"
     ]
    }
   ],
   "source": [
    "## remove all duplicate element from sorted array --> 1,2,2,3,3 --> two pointer\n",
    "arr = [1,2,2,3,3]\n",
    "l = 1\n",
    "for r in range(1,len(arr)):\n",
    "    if arr[r] != arr[r-1]:\n",
    "        arr[l] = arr[r]\n",
    "        l += 1\n",
    "print(arr[:l]) ## --> return l\n",
    "## remove all occurence of a value --> val = 3 --> 3,2,2,3\n",
    "arr = [3,2,2,3]\n",
    "val = 3\n",
    "l = 0\n",
    "for r in range(len(arr)):\n",
    "    if arr[r] != val:\n",
    "        arr[l] = arr[r]\n",
    "        l += 1\n",
    "print(arr[:l]) ## --> return l"
   ]
  },
  {
   "cell_type": "markdown",
   "metadata": {},
   "source": [
    "##### Dynamic Array"
   ]
  },
  {
   "cell_type": "code",
   "execution_count": 5,
   "metadata": {},
   "outputs": [
    {
     "name": "stdout",
     "output_type": "stream",
     "text": [
      "[1, 2, 1, 1, 2, 1]\n"
     ]
    }
   ],
   "source": [
    "## concatination of array --> [1,2,1] -->[1,2,1,1,2,1]\n",
    "arr = [1,2,1]\n",
    "new_arr = []\n",
    "for i in range(2):\n",
    "    for j in arr:\n",
    "        new_arr.append(j)\n",
    "print(new_arr) ## --> [1,2,1,1,2,1]"
   ]
  },
  {
   "cell_type": "markdown",
   "metadata": {},
   "source": [
    "##### Stack"
   ]
  },
  {
   "cell_type": "code",
   "execution_count": 11,
   "metadata": {},
   "outputs": [
    {
     "name": "stdout",
     "output_type": "stream",
     "text": [
      "False\n",
      "True\n",
      "False\n"
     ]
    }
   ],
   "source": [
    "## valid parenthesis --> \"[()]\" --> True --> \"[(])\" --> False\n",
    "def isValid(s):\n",
    "    stack = []\n",
    "    close_to_open = {')':'(', '}':'{', ']':'['}\n",
    "    for c in s:\n",
    "        if c in close_to_open:\n",
    "            if stack and stack[-1] == close_to_open[c]:\n",
    "                stack.pop()\n",
    "            else:\n",
    "                return False\n",
    "        else:\n",
    "            stack.append(c)\n",
    "    if not stack:\n",
    "        return True\n",
    "    return False\n",
    "\n",
    "s1 = \"[()]]\"\n",
    "print(isValid(s1))\n",
    "s2 = \"[()]\"\n",
    "print(isValid(s2))\n",
    "s3 = \"[(])\"\n",
    "print(isValid(s3))"
   ]
  },
  {
   "cell_type": "code",
   "execution_count": 14,
   "metadata": {},
   "outputs": [
    {
     "name": "stdout",
     "output_type": "stream",
     "text": [
      "-3\n",
      "0\n"
     ]
    }
   ],
   "source": [
    "## min stack class\n",
    "class MinStack:\n",
    "    def __init__(self):\n",
    "        self.stack = []\n",
    "        self.min_stack = []\n",
    "\n",
    "    def push(self,val):\n",
    "        self.stack.append(val)\n",
    "        val = min(val,self.min_stack[-1] if self.min_stack else val)\n",
    "        self.min_stack.append(val)\n",
    "\n",
    "    def pop(self):\n",
    "        self.stack.pop()\n",
    "        self.min_stack.pop()\n",
    "\n",
    "    def top(self):\n",
    "        return self.stack[-1]\n",
    "    \n",
    "    def getMin(self):\n",
    "        return self.min_stack[-1]\n",
    "    \n",
    "min_stack = MinStack()\n",
    "min_stack.push(-2)\n",
    "min_stack.push(0)\n",
    "min_stack.push(-3)\n",
    "print(min_stack.getMin()) # --> return -3\n",
    "min_stack.pop()\n",
    "print(min_stack.top()) # --> return 0"
   ]
  },
  {
   "cell_type": "markdown",
   "metadata": {},
   "source": [
    "##### Kadane's Algorithm"
   ]
  },
  {
   "cell_type": "code",
   "execution_count": 15,
   "metadata": {},
   "outputs": [
    {
     "name": "stdout",
     "output_type": "stream",
     "text": [
      "6\n"
     ]
    }
   ],
   "source": [
    "## subarray with maximum sum \n",
    "## steps: add a number to curr sum , before adding if curr sum is -ve set curr sum to 0 , update max sum\n",
    "## time complexity O(n) \n",
    "def max_arr_sum(arr):\n",
    "    max_sum = arr[0]\n",
    "    curr = 0\n",
    "    for n in arr:\n",
    "        curr = max(curr,0)\n",
    "        curr += n\n",
    "        max_sum = max(max_sum,curr)\n",
    "    return max_sum\n",
    "\n",
    "arr = [-2,1,-3,4,-1,2,1,-5,4]\n",
    "print(max_arr_sum(arr)) ## --> 6"
   ]
  },
  {
   "cell_type": "code",
   "execution_count": 16,
   "metadata": {},
   "outputs": [
    {
     "name": "stdout",
     "output_type": "stream",
     "text": [
      "[4, -1, 2, 1]\n"
     ]
    }
   ],
   "source": [
    "## return the subarray ## O(n)\n",
    "def max_sub_arr_sum(arr):\n",
    "    max_sum = arr[0]\n",
    "    curr = 0\n",
    "    maxL,maxR = 0,0\n",
    "    L = 0\n",
    "    for R in range(len(arr)):\n",
    "        if curr < 0:\n",
    "            curr = 0\n",
    "            L = R\n",
    "        curr += arr[R]\n",
    "        if curr > max_sum:\n",
    "            max_sum = curr\n",
    "            maxL,maxR = L,R\n",
    "    return arr[maxL:maxR+1]\n",
    "\n",
    "arr = [-2,1,-3,4,-1,2,1,-5,4]\n",
    "print(max_sub_arr_sum(arr)) ## --> [4,-1,2,1]"
   ]
  },
  {
   "cell_type": "code",
   "execution_count": 19,
   "metadata": {},
   "outputs": [
    {
     "name": "stdout",
     "output_type": "stream",
     "text": [
      "10\n"
     ]
    }
   ],
   "source": [
    "## circular subarray with maximum sum\n",
    "# 1. find the max sum of non circular subarray, \n",
    "# 2. find the min sum of non circular subarray, \n",
    "# 3. find the total sum of array, \n",
    "# 4. return max of (max_sum, total_sum - min_sum)\n",
    "def max_circular_sub_arr_sum(arr):\n",
    "    gmax,gmin = arr[0],arr[0]\n",
    "    cmax,cmin = 0,0\n",
    "    total = 0\n",
    "    for i in range(len(arr)):\n",
    "        cmax = max(cmax,0)\n",
    "        cmin = min(cmin,0)\n",
    "        cmax += arr[i]\n",
    "        cmin += arr[i]\n",
    "        gmax = max(gmax,cmax)\n",
    "        gmin = min(gmin,cmin)\n",
    "        total+=arr[i]\n",
    "    if gmax > 0:\n",
    "        return max(gmax,total-gmin)\n",
    "    else:\n",
    "        return gmax\n",
    "    \n",
    "arr = [5,-3,5]\n",
    "print(max_circular_sub_arr_sum(arr)) ## --> 10"
   ]
  },
  {
   "cell_type": "code",
   "execution_count": 22,
   "metadata": {},
   "outputs": [
    {
     "name": "stdout",
     "output_type": "stream",
     "text": [
      "5\n"
     ]
    }
   ],
   "source": [
    "## maximum trubulant subarray --> 0(n)\n",
    "## turbulant subarray is a subarray where the sign of the difference between consecutive elements alternates\n",
    "## example: [9>4>2<10>7<8<9] --> [4,2,10,7,8] --> 5\n",
    "def max_turb_subarr(arr):\n",
    "    l = 0\n",
    "    r = 1\n",
    "    res = 1\n",
    "    prev = ' '\n",
    "    while r < len(arr):\n",
    "        if arr[r-1]>arr[r] and prev !='>':\n",
    "            res = max(res,r-l+1)\n",
    "            r += 1\n",
    "            prev = '>'\n",
    "        elif arr[r-1]<arr[r] and prev != '<':\n",
    "            res = max(res,r-l+1)\n",
    "            r += 1\n",
    "            prev = '<'\n",
    "        else:\n",
    "            r = r+1 if arr[r-1]==arr[r] else r\n",
    "            l = r-1\n",
    "            prev = ' '\n",
    "    return res\n",
    "\n",
    "arr = [9,4,2,10,7,8,9]\n",
    "print(max_turb_subarr(arr)) ## --> 5"
   ]
  },
  {
   "cell_type": "markdown",
   "metadata": {},
   "source": [
    "##### Sliding Window Fixed"
   ]
  },
  {
   "cell_type": "code",
   "execution_count": 26,
   "metadata": {},
   "outputs": [
    {
     "name": "stdout",
     "output_type": "stream",
     "text": [
      "True\n",
      "True\n",
      "False\n",
      "False\n"
     ]
    }
   ],
   "source": [
    "## contain duplicate in a window of size K\n",
    "## brute force --> O(n^2)\n",
    "def contain_duplicate_brute(arr,k):\n",
    "    L = 0\n",
    "    for L in range(len(arr)):\n",
    "        for R in range(L+1,min(len(arr),L+k+1)):\n",
    "            if arr[L] == arr[R]:\n",
    "                return True\n",
    "    return False\n",
    "\n",
    "## hashset --> O(n)\n",
    "def contain_duplicate_set(arr,k):\n",
    "    w = set()\n",
    "    l = 0\n",
    "    for r in range(len(arr)):\n",
    "        if arr[r] in w:\n",
    "            return True\n",
    "        w.add(arr[r])\n",
    "        if r-l+1 > k:\n",
    "            w.remove(arr[l])\n",
    "            l += 1\n",
    "    return False\n",
    "\n",
    "arr1 = [1,2,3,1]\n",
    "arr2 = [1,0,2,3]\n",
    "k = 3\n",
    "print(contain_duplicate_brute(arr1,k)) ## --> True\n",
    "print(contain_duplicate_set(arr1,k)) ## --> True\n",
    "print(contain_duplicate_brute(arr2,k)) ## --> False\n",
    "print(contain_duplicate_set(arr2,k)) ## --> False"
   ]
  },
  {
   "cell_type": "code",
   "execution_count": 28,
   "metadata": {},
   "outputs": [
    {
     "name": "stdout",
     "output_type": "stream",
     "text": [
      "2\n"
     ]
    }
   ],
   "source": [
    "## number of subarrays of size K with average is graeter than threshold\n",
    "def num_of_subarr(arr,k,threshold):\n",
    "    res = 0\n",
    "    currsem = sum(arr[:k-1])\n",
    "    for r in range(len(arr)-k+1):\n",
    "        currsem += arr[r+k-1]\n",
    "        if currsem/k > threshold:\n",
    "            res += 1\n",
    "        currsem -= arr[r]\n",
    "    return res\n",
    "\n",
    "arr = [2,2,2,2,5,5,5,8]\n",
    "k = 3\n",
    "threshold = 4\n",
    "print(num_of_subarr(arr,k,threshold)) ## --> 2"
   ]
  },
  {
   "cell_type": "markdown",
   "metadata": {},
   "source": [
    "##### Sliding Window Variable"
   ]
  },
  {
   "cell_type": "code",
   "execution_count": 31,
   "metadata": {},
   "outputs": [
    {
     "name": "stdout",
     "output_type": "stream",
     "text": [
      "4\n"
     ]
    }
   ],
   "source": [
    "## length of the longest subarray same value at each position\n",
    "## example:[2,2,2,2,5,5,5,8] --> 4\n",
    "def longest_subarr_len(arr):\n",
    "    res = 0\n",
    "    l = 0\n",
    "    for r in range(len(arr)):\n",
    "        if arr[r] != arr[l]:\n",
    "            l=r\n",
    "        res = max(res,r-l+1)\n",
    "    return res\n",
    "\n",
    "arr = [2,2,2,2,5,5,5,8]\n",
    "print(longest_subarr_len(arr)) ## --> 4"
   ]
  },
  {
   "cell_type": "code",
   "execution_count": 32,
   "metadata": {},
   "outputs": [
    {
     "name": "stdout",
     "output_type": "stream",
     "text": [
      "2\n"
     ]
    }
   ],
   "source": [
    "##  minimum length of subarray where sum is greater than or equal to target\n",
    "## sliding window --> O(n)\n",
    "def min_len_subarr(arr,target):\n",
    "    res = float('inf')\n",
    "    total = 0\n",
    "    l = 0\n",
    "    for r in range(len(arr)):\n",
    "        total += arr[r]\n",
    "        while total >= target:\n",
    "            res = min(res,r-l+1)\n",
    "            total -= arr[l]\n",
    "            l += 1\n",
    "    return res if res != float('inf') else 0\n",
    "\n",
    "arr = [2,3,1,2,4,3]\n",
    "target = 7\n",
    "print(min_len_subarr(arr,target)) ## --> 2"
   ]
  },
  {
   "cell_type": "code",
   "execution_count": 33,
   "metadata": {},
   "outputs": [
    {
     "name": "stdout",
     "output_type": "stream",
     "text": [
      "3\n"
     ]
    }
   ],
   "source": [
    "## longest substring without repeating characters\n",
    "## sliding window --> O(n)\n",
    "def longest_substring(s):\n",
    "    res = 0\n",
    "    l = 0\n",
    "    w = set()\n",
    "    for r in range(len(s)):\n",
    "        while s[r] in w:\n",
    "            w.remove(s[l])\n",
    "            l += 1\n",
    "        w.add(s[r])\n",
    "        res = max(res,r-l+1)\n",
    "    return res\n",
    "\n",
    "s = \"abcabcbb\"\n",
    "print(longest_substring(s)) ## --> 3"
   ]
  },
  {
   "cell_type": "markdown",
   "metadata": {},
   "source": [
    "##### Two Pointer"
   ]
  },
  {
   "cell_type": "code",
   "execution_count": 34,
   "metadata": {},
   "outputs": [
    {
     "name": "stdout",
     "output_type": "stream",
     "text": [
      "True\n"
     ]
    }
   ],
   "source": [
    "## check if an array is palindrome\n",
    "## example: [1,2,3,2,1] --> True\n",
    "def is_palindrome(arr):\n",
    "    l = 0\n",
    "    r = len(arr)-1\n",
    "    while l<r:\n",
    "        if arr[l] != arr[r]:\n",
    "            return False\n",
    "        l += 1\n",
    "        r -= 1\n",
    "    return True\n",
    "\n",
    "arr = [1,2,3,2,1]\n",
    "print(is_palindrome(arr)) ## --> True"
   ]
  },
  {
   "cell_type": "code",
   "execution_count": 38,
   "metadata": {},
   "outputs": [
    {
     "name": "stdout",
     "output_type": "stream",
     "text": [
      "[0, 3]\n"
     ]
    }
   ],
   "source": [
    "## given sorted input array.Return the index of the target value in the array\n",
    "## example: [1,2,3,4,5] target = 5 -->[0,3]\n",
    "def target_search(arr,target):\n",
    "    l = 0\n",
    "    r = len(arr)-1\n",
    "    while l<r:\n",
    "        if arr[l]+arr[r] > target:\n",
    "            r -= 1\n",
    "        elif arr[l]+arr[r] < target:    \n",
    "            l += 1\n",
    "        else:\n",
    "            return [l,r]\n",
    "    return []\n",
    "\n",
    "arr = [1,2,3,4,5]\n",
    "target = 5\n",
    "print(target_search(arr,target)) ## --> [0,3]"
   ]
  },
  {
   "cell_type": "code",
   "execution_count": 40,
   "metadata": {},
   "outputs": [
    {
     "name": "stdout",
     "output_type": "stream",
     "text": [
      "True\n",
      "False\n"
     ]
    }
   ],
   "source": [
    "## valid palindrome sentence\n",
    "def is_alnum(c):\n",
    "    return (ord('a') <= ord(c) <= ord('z')) or (ord('A') <= ord(c) <= ord('Z')) or (ord('0') <= ord(c) <= ord('9'))\n",
    "\n",
    "def valid_palindrome(sentence):\n",
    "    l = 0\n",
    "    r = len(sentence)-1\n",
    "    while l<r:\n",
    "        while l<r and not is_alnum(sentence[l]):\n",
    "            l += 1\n",
    "        while r>l and not is_alnum(sentence[r]):\n",
    "            r -= 1\n",
    "        if sentence[l].lower() != sentence[r].lower():\n",
    "            return False\n",
    "        l += 1\n",
    "        r -= 1\n",
    "    return True\n",
    "\n",
    "sentence1 = \"A man, a plan, a canal, Panama\"\n",
    "sentence2 = \"A man\"\n",
    "print(valid_palindrome(sentence1)) ## --> True\n",
    "print(valid_palindrome(sentence2)) ## --> False"
   ]
  },
  {
   "cell_type": "code",
   "execution_count": 46,
   "metadata": {},
   "outputs": [
    {
     "name": "stdout",
     "output_type": "stream",
     "text": [
      "4\n"
     ]
    }
   ],
   "source": [
    "## remove duplicate such that unique element appears twice\n",
    "## tc --> O(n)\n",
    "def unique_element_twice(arr):\n",
    "    l = 0 \n",
    "    r = 0\n",
    "    while r < len(arr):\n",
    "        cnt = 0\n",
    "        while r+1 < len(arr) and arr[r]==arr[r+1]:\n",
    "            r += 1\n",
    "            cnt += 1\n",
    "        for i in range(min(2,cnt)):\n",
    "            arr[l]=arr[r]\n",
    "            l+=1\n",
    "        r+=1\n",
    "    return l\n",
    "\n",
    "nums = [1,1,1,2,2,3,3]\n",
    "print(unique_element_twice(nums)) # [1,1,2,2,3,3]"
   ]
  },
  {
   "cell_type": "code",
   "execution_count": 50,
   "metadata": {},
   "outputs": [
    {
     "name": "stdout",
     "output_type": "stream",
     "text": [
      "49\n",
      "49\n"
     ]
    }
   ],
   "source": [
    "## container most water\n",
    "## [1,8,6,2,5,4,8,3,7]\n",
    "## brute force --> O(n^2)\n",
    "def most_water_container_brute_force(height):\n",
    "    res = 0\n",
    "    for l in range(len(height)):\n",
    "        for r in range(1,len(height)):\n",
    "            area = (r-l)*(min(height[r],height[l]))\n",
    "            res = max(res,area)\n",
    "    return res\n",
    "\n",
    "## two pointer --> O(n)\n",
    "def most_water_container_pwo_pointer(height):\n",
    "    res = 0\n",
    "    l = 0\n",
    "    r = len(height)-1\n",
    "    while l<r:\n",
    "        area = (r-l)*(min(height[r],height[l]))\n",
    "        res = max(res,area)\n",
    "        if height[l]<height[r]:\n",
    "            l+=1\n",
    "        else:\n",
    "            r-=1\n",
    "    return res\n",
    "\n",
    "height = [1,8,6,2,5,4,8,3,7]\n",
    "print(most_water_container_brute_force(height))\n",
    "print(most_water_container_pwo_pointer(height))"
   ]
  },
  {
   "cell_type": "code",
   "execution_count": 51,
   "metadata": {},
   "outputs": [
    {
     "name": "stdout",
     "output_type": "stream",
     "text": [
      "7\n"
     ]
    }
   ],
   "source": [
    "## trapping rain water\n",
    "## min(maxL,maxR)-h[i]\n",
    "def trapping_rain_water(height):\n",
    "    l = 0\n",
    "    r = len(height)-1\n",
    "    maxL = height[l]\n",
    "    maxR = height[r]\n",
    "    res = 0\n",
    "    while l<r:\n",
    "        if maxL < maxR:\n",
    "            l += 1\n",
    "            maxL = max(maxL,height[l])\n",
    "            res += maxL-height[l]\n",
    "        else:\n",
    "            r -= 1\n",
    "            maxR = max(maxR,height[r])\n",
    "            res += maxR-height[r]\n",
    "    return res\n",
    "\n",
    "height = [0,1,0,0,2,1,0,1,3,2,1,2,1]\n",
    "print(trapping_rain_water(height))"
   ]
  },
  {
   "cell_type": "markdown",
   "metadata": {},
   "source": [
    "##### Prefix Sum"
   ]
  },
  {
   "cell_type": "code",
   "execution_count": 54,
   "metadata": {},
   "outputs": [
    {
     "name": "stdout",
     "output_type": "stream",
     "text": [
      "12\n"
     ]
    }
   ],
   "source": [
    "## sum of subarray of values\n",
    "## range sum\n",
    "class Prefix_sum:\n",
    "    def __init__(self,nums):\n",
    "        self.prefix = []\n",
    "        total = 0\n",
    "        for n in nums:\n",
    "            total += n\n",
    "            self.prefix.append(total)\n",
    "\n",
    "    def rangesun(self,left,right):\n",
    "        rightsum = self.prefix[right]\n",
    "        leftsem = self.prefix[left-1] if left > 0 else 0\n",
    "        return rightsum-leftsem\n",
    "    \n",
    "nums = [1,3,4,5,10]\n",
    "prefix_sum = Prefix_sum(nums)\n",
    "print(prefix_sum.rangesun(1,3))"
   ]
  },
  {
   "cell_type": "code",
   "execution_count": 55,
   "metadata": {},
   "outputs": [],
   "source": [
    "## range sum 2d\n",
    "class RangeSum2d:\n",
    "    def __init__(self,mat):\n",
    "        rows = len(mat)\n",
    "        cols = len(mat[0])\n",
    "        self.summat = [[0]*(cols+1) for r in range(rows+1)]\n",
    "        for r in rows:\n",
    "            prefix = 0\n",
    "            for c in cols:\n",
    "                prefix += mat[r][c]\n",
    "                above = self.summat[r][c+1]\n",
    "                self.summat[r+1][c+1] = prefix+above\n",
    "\n",
    "    def rangesum(self,r1,c1,r2,c2):\n",
    "        bottomright = self.summat[r2][c2]\n",
    "        above = self.summat[r1-1][c2]\n",
    "        bottom = self.summat[r2][c1-1]\n",
    "        top = self.summat[r1-1][c1-1]\n",
    "        return bottomright-above-bottom+top"
   ]
  },
  {
   "cell_type": "code",
   "execution_count": 56,
   "metadata": {},
   "outputs": [
    {
     "name": "stdout",
     "output_type": "stream",
     "text": [
      "3\n"
     ]
    }
   ],
   "source": [
    "## pivot index\n",
    "## righsum = total - nums[i] - leftsum\n",
    "def pivot_index(nums):\n",
    "    total = sum(nums)\n",
    "    leftsum = 0\n",
    "    for i in range(len(nums)):\n",
    "        righsum = total - nums[i] - leftsum\n",
    "        if leftsum == righsum:\n",
    "            return i\n",
    "        leftsum += nums[i]\n",
    "    return -1\n",
    "\n",
    "nums = [1,7,3,6,5,6] ## index 3--> 6 1+7+3==5+6\n",
    "print(pivot_index(nums)) "
   ]
  },
  {
   "cell_type": "code",
   "execution_count": 59,
   "metadata": {},
   "outputs": [
    {
     "name": "stdout",
     "output_type": "stream",
     "text": [
      "1\n"
     ]
    }
   ],
   "source": [
    "## sub array sum that equals to k\n",
    "def subarry_sum(arr,k):\n",
    "    currsum = 0\n",
    "    res = 0\n",
    "    prefixsum = {0:1}\n",
    "    for i in arr:\n",
    "        currsum += i\n",
    "        diff = currsum - k\n",
    "        res += prefixsum.get(diff,0)\n",
    "        prefixsum[currsum] = prefixsum.get(currsum,0)\n",
    "    return res\n",
    "\n",
    "arr = 1,-1,1,1,1,1\n",
    "k = 3\n",
    "print(subarry_sum(arr,k))"
   ]
  },
  {
   "cell_type": "code",
   "execution_count": null,
   "metadata": {},
   "outputs": [],
   "source": []
  }
 ],
 "metadata": {
  "kernelspec": {
   "display_name": "Python 3",
   "language": "python",
   "name": "python3"
  },
  "language_info": {
   "codemirror_mode": {
    "name": "ipython",
    "version": 3
   },
   "file_extension": ".py",
   "mimetype": "text/x-python",
   "name": "python",
   "nbconvert_exporter": "python",
   "pygments_lexer": "ipython3",
   "version": "3.9.6"
  }
 },
 "nbformat": 4,
 "nbformat_minor": 2
}
