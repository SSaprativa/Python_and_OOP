{
 "cells": [
  {
   "cell_type": "markdown",
   "metadata": {},
   "source": [
    "##### Sorting"
   ]
  },
  {
   "cell_type": "code",
   "execution_count": 1,
   "metadata": {},
   "outputs": [
    {
     "name": "stdout",
     "output_type": "stream",
     "text": [
      "[1, 2, 3, 4, 6]\n"
     ]
    }
   ],
   "source": [
    "## insertion sort\n",
    "def insert_sort(arr):\n",
    "    for i in range(len(arr)):\n",
    "        j = i-1\n",
    "        while j>=0 and arr[j+1]<arr[j]:\n",
    "            temp = arr[j]\n",
    "            arr[j] = arr[j+1]\n",
    "            arr[j+1] = temp\n",
    "            j -= 1\n",
    "    return arr\n",
    "\n",
    "arr = [2,3,4,6,1]\n",
    "print(insert_sort(arr))"
   ]
  },
  {
   "cell_type": "code",
   "execution_count": 9,
   "metadata": {},
   "outputs": [
    {
     "name": "stdout",
     "output_type": "stream",
     "text": [
      "[1, 2, 3, 4, 6]\n"
     ]
    }
   ],
   "source": [
    "## merge sort\n",
    "def merge(arr,s,m,e):\n",
    "    L = arr[s:m+1]\n",
    "    R = arr[m+1:e+1]\n",
    "    i = 0\n",
    "    j= 0 \n",
    "    k = s\n",
    "    while i < len(L) and j < len(R):\n",
    "        if L[i] < R[j]:\n",
    "            arr[k] = L[i]\n",
    "            i+=1\n",
    "        else:\n",
    "            arr[k] = R[j]\n",
    "            j+=1\n",
    "        k+=1\n",
    "    while i < len(L):\n",
    "        arr[k] = L[i]\n",
    "        i += 1\n",
    "        k += 1\n",
    "    while j < len(R):\n",
    "        arr[k] = R[j]\n",
    "        j += 1\n",
    "        k += 1\n",
    "\n",
    "def merge_sort(arr,s,e):\n",
    "    if e-s+1<=1:\n",
    "        return\n",
    "    m = (s+e)//2\n",
    "    merge_sort(arr,s,m)\n",
    "    merge_sort(arr,m+1,e)\n",
    "    merge(arr,s,m,e)\n",
    "\n",
    "arr = [2,3,4,6,1]\n",
    "merge_sort(arr,0,len(arr)-1)\n",
    "print(arr)"
   ]
  },
  {
   "cell_type": "code",
   "execution_count": 11,
   "metadata": {},
   "outputs": [
    {
     "name": "stdout",
     "output_type": "stream",
     "text": [
      "[1, 2, 3, 4, 6]\n"
     ]
    }
   ],
   "source": [
    "## quick sort\n",
    "def partition(arr,left,right):\n",
    "    i = left\n",
    "    j = right-1\n",
    "    pivot = arr[right]\n",
    "    while i < j:\n",
    "        while i < right and arr[i]<pivot:\n",
    "            i+=1\n",
    "        while j > left and arr[j]>pivot:\n",
    "            j-=1\n",
    "        if i<j:\n",
    "            arr[i],arr[j] = arr[j],arr[i]\n",
    "    if pivot<arr[i]:\n",
    "        arr[i],arr[right]=arr[right],arr[i]\n",
    "    return i\n",
    "\n",
    "def quick_sort(arr,left,right):\n",
    "    if left < right:\n",
    "        p = partition(arr,left,right)\n",
    "        quick_sort(arr,left,p-1)\n",
    "        quick_sort(arr,p+1,right)\n",
    "\n",
    "arr = [2,3,4,6,1]\n",
    "quick_sort(arr,0,len(arr)-1)\n",
    "print(arr)"
   ]
  },
  {
   "cell_type": "code",
   "execution_count": 12,
   "metadata": {},
   "outputs": [
    {
     "name": "stdout",
     "output_type": "stream",
     "text": [
      "[0, 0, 1, 2, 2, 2]\n"
     ]
    }
   ],
   "source": [
    "## bucket sort\n",
    "def bucket_sort(arr):\n",
    "    count = [0,0,0]\n",
    "    for n in arr:\n",
    "        count[n] += 1\n",
    "    i=0\n",
    "    for n in range(len(count)):\n",
    "        for j in range(count[n]):\n",
    "            arr[i] = n\n",
    "            i+=1\n",
    "    return arr\n",
    "\n",
    "arr = [2,1,2,0,0,2]\n",
    "print(bucket_sort(arr))"
   ]
  },
  {
   "cell_type": "markdown",
   "metadata": {},
   "source": [
    "##### Searching"
   ]
  },
  {
   "cell_type": "code",
   "execution_count": 14,
   "metadata": {},
   "outputs": [
    {
     "name": "stdout",
     "output_type": "stream",
     "text": [
      "1\n",
      "1\n"
     ]
    }
   ],
   "source": [
    "## binary search iteration\n",
    "def bin_search(arr,target):\n",
    "    l = 0\n",
    "    r = len(arr)-1\n",
    "    while l<r:\n",
    "        m = (l+r)//2\n",
    "        if arr[m] > target:\n",
    "            r = m-1\n",
    "        elif arr[m] < target:\n",
    "            l = m+1\n",
    "        else:\n",
    "            return m\n",
    "    return -1\n",
    "\n",
    "## binary search recursion\n",
    "def bin_search_recursion(arr,l,r,target):\n",
    "    if l>r:\n",
    "        return -1\n",
    "    m = (l+r)//2\n",
    "    if arr[m]==target:\n",
    "        return m\n",
    "    if arr[m] < target:\n",
    "        return bin_search_recursion(arr,m+1,r,target)\n",
    "    else:\n",
    "        return bin_search_recursion(arr,l,m-1,target)\n",
    "\n",
    "arr = [2,3,4,5,6,7,8,9]\n",
    "print(bin_search(arr,3))\n",
    "print(bin_search_recursion(arr,0,len(arr)-1,3))"
   ]
  },
  {
   "cell_type": "code",
   "execution_count": 21,
   "metadata": {},
   "outputs": [
    {
     "data": {
      "text/plain": [
       "True"
      ]
     },
     "execution_count": 21,
     "metadata": {},
     "output_type": "execute_result"
    }
   ],
   "source": [
    "## 2d array\n",
    "def bin_2d_search(arr,target):\n",
    "    top = 0\n",
    "    bottom = len(arr)-1\n",
    "    ROWS = len(arr)\n",
    "    COLS = len(arr[0])\n",
    "    while top <= bottom:\n",
    "        m = (top+bottom)//2\n",
    "        if target > arr[m][-1]:\n",
    "            top = m+1\n",
    "        elif target < arr[m][0]:\n",
    "            bottom = m-1\n",
    "        else:\n",
    "            break\n",
    "    if not top <= bottom:\n",
    "        return False\n",
    "    m_row = (top+bottom)//2\n",
    "    l = 0\n",
    "    r = COLS-1\n",
    "    while l<=r:\n",
    "        m = (l+r)//2\n",
    "        if target > arr[m_row][m]:\n",
    "            l = m+1\n",
    "        elif target < arr[m_row][m]:\n",
    "            r = m-1\n",
    "        else:\n",
    "            return True\n",
    "    return False\n",
    "\n",
    "arr = [[1,3,5,7],[10,11,16,20],[23,30,34,60]]\n",
    "bin_2d_search(arr,100)\n",
    "bin_2d_search(arr,7)"
   ]
  },
  {
   "cell_type": "code",
   "execution_count": 24,
   "metadata": {},
   "outputs": [
    {
     "data": {
      "text/plain": [
       "10"
      ]
     },
     "execution_count": 24,
     "metadata": {},
     "output_type": "execute_result"
    }
   ],
   "source": [
    "## range sum\n",
    "def isCorrect(n):\n",
    "    if n>10:\n",
    "        return 1\n",
    "    elif n<10:\n",
    "        return -1\n",
    "    else:\n",
    "        return 0\n",
    "    \n",
    "def bin_search(low,high):\n",
    "    while low<=high:\n",
    "        m = (low+high)//2\n",
    "        if isCorrect(m)>0:\n",
    "            high = m-1\n",
    "        elif isCorrect(m)<0:\n",
    "            low = m+1\n",
    "        else:\n",
    "            return m\n",
    "    return -1\n",
    "\n",
    "bin_search(5,50)"
   ]
  },
  {
   "cell_type": "code",
   "execution_count": null,
   "metadata": {},
   "outputs": [],
   "source": []
  }
 ],
 "metadata": {
  "kernelspec": {
   "display_name": "Python 3",
   "language": "python",
   "name": "python3"
  },
  "language_info": {
   "codemirror_mode": {
    "name": "ipython",
    "version": 3
   },
   "file_extension": ".py",
   "mimetype": "text/x-python",
   "name": "python",
   "nbconvert_exporter": "python",
   "pygments_lexer": "ipython3",
   "version": "3.9.6"
  }
 },
 "nbformat": 4,
 "nbformat_minor": 2
}
