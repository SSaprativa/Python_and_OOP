{
 "cells": [
  {
   "cell_type": "markdown",
   "metadata": {},
   "source": [
    "### Class and Objects"
   ]
  },
  {
   "cell_type": "code",
   "execution_count": 1,
   "metadata": {},
   "outputs": [],
   "source": [
    "## class is the **blueprint** of creating object\n",
    "## __init__ method belongs to the class also known as Construtor.It **creates object** and **initialize class attributes**.\n",
    "## __init__ method is automatically called when we create new object from our class,it sets up **initial state of an object**.\n",
    "## __init__ method has an argument self.self variable allows us to **add attribute to our objects**.\n",
    "class SuperHero:\n",
    "    def __init__(self, name, power, health, speed):\n",
    "        self.name = name\n",
    "        self.power = power\n",
    "        self.health = health\n",
    "        self.speed = speed"
   ]
  },
  {
   "cell_type": "code",
   "execution_count": 6,
   "metadata": {},
   "outputs": [],
   "source": [
    "## object is the instance of a class\n",
    "## create the object by calling the class and passing the required arguments\n",
    "iron_man = SuperHero(\"Iron Man\", \"repulsor beams\", 100, 80)\n",
    "spider_man = SuperHero(\"Spider Man\", \"web slinging\", 90, 95)"
   ]
  },
  {
   "cell_type": "code",
   "execution_count": 7,
   "metadata": {},
   "outputs": [
    {
     "name": "stdout",
     "output_type": "stream",
     "text": [
      "Iron Man\n",
      "repulsor beams\n",
      "100\n",
      "90\n",
      "advanced repulsor technology\n"
     ]
    }
   ],
   "source": [
    "## object attribute are the **properties** that belong to the class object.\n",
    "## we can access and modify the attribute\n",
    "print(iron_man.name)\n",
    "print(iron_man.power)\n",
    "print(iron_man.health)\n",
    "iron_man.health = 90\n",
    "iron_man.power = \"advanced repulsor technology\"\n",
    "print(iron_man.health)\n",
    "print(iron_man.power)   "
   ]
  },
  {
   "cell_type": "code",
   "execution_count": 8,
   "metadata": {},
   "outputs": [
    {
     "name": "stdout",
     "output_type": "stream",
     "text": [
      "Iron Man uses super strength!\n",
      "Iron Man takes 20 damage. Health is now 80.\n"
     ]
    }
   ],
   "source": [
    "## object method are **functions** that belongs to the class object.\n",
    "## they define the behavior of the class object.\n",
    "class SuperHero:\n",
    "    def __init__(self, name: str, power: str, health: int, speed: int):\n",
    "        self.name = name\n",
    "        self.power = power\n",
    "        self.health = health\n",
    "        self.speed = speed\n",
    "\n",
    "    def use_power(self):\n",
    "        print(f\"{self.name} uses {self.power}!\")\n",
    "    \n",
    "    def take_damage(self, amount):\n",
    "        self.health -= amount\n",
    "        print(f\"{self.name} takes {amount} damage. Health is now {self.health}.\")\n",
    "\n",
    "iron_man = SuperHero(\"Iron Man\", \"super strength\", 100, 90)\n",
    "iron_man.use_power()     # Output: Iron Man uses super strength!\n",
    "iron_man.take_damage(20) # Output: Iron Man takes 20 damage. Health is now 80."
   ]
  },
  {
   "cell_type": "markdown",
   "metadata": {},
   "source": [
    "### Encapsulation"
   ]
  },
  {
   "cell_type": "code",
   "execution_count": 9,
   "metadata": {},
   "outputs": [],
   "source": [
    "## encapsulation is a process of wrappig variables and methods into a single entity"
   ]
  },
  {
   "cell_type": "code",
   "execution_count": 10,
   "metadata": {},
   "outputs": [
    {
     "name": "stdout",
     "output_type": "stream",
     "text": [
      "Spider-Man\n",
      "Spider-Man has a power level of 85\n"
     ]
    }
   ],
   "source": [
    "## public attributes and methods can be accessed and modified directly from outside the class\n",
    "## by default all the attributes are public \n",
    "## public attribute and methods are suitable when direct access **do not effect the object integrity** and keep code **simple and straight forward**.\n",
    "class SuperHero:\n",
    "    def __init__(self, name: str, power_level: int):\n",
    "        self.name = name                # public attribute\n",
    "        self.power_level = power_level  # public attribute\n",
    "    \n",
    "    # Public method\n",
    "    def display_power_level(self):\n",
    "        print(f\"{self.name} has a power level of {self.power_level}\")\n",
    "\n",
    "# Creating a superhero\n",
    "spider_man = SuperHero(\"Spider-Man\", 85)\n",
    "# Accessing public attributes/methods\n",
    "print(spider_man.name)\n",
    "spider_man.display_power_level()\n",
    "# Modifying public attributes\n",
    "spider_man.power_level = 90"
   ]
  },
  {
   "cell_type": "code",
   "execution_count": 12,
   "metadata": {},
   "outputs": [],
   "source": [
    "## protected attributes can not be accessed directly from outside the class\n",
    "## but it can be accessed within the class and by its child class\n",
    "## created by prefixing underscore(_)\n",
    "## public methods (getter,setter) to be used to access protected attribute/methods\n",
    "class SuperHero:\n",
    "    def __init__(self, name: str, power_level: int):\n",
    "        self._power_level = power_level  # protected attribute\n",
    "\n",
    "    def _some_protected_method(self): # protected method\n",
    "        pass"
   ]
  },
  {
   "cell_type": "code",
   "execution_count": 15,
   "metadata": {},
   "outputs": [],
   "source": [
    "## private attributes are same as protected but unlike protected it can not be accessed by its child class\n",
    "## created by prefixing double undersvore(__)\n",
    "class SuperHero:\n",
    "    def __init__(self, name: str, power_level: int):\n",
    "        self.__name = name                # private attribute\n",
    "        self.__power_level = power_level  # private attribute\n",
    "    \n",
    "    # private method\n",
    "    def __secret_power(self) -> str:        \n",
    "        return f\"Using {self.__name}'s secret power and power level is {self.__power_level}!\"\n",
    "    \n",
    "    # public method to access private method\n",
    "    def use_power(self) -> str:             \n",
    "        return self.__secret_power()"
   ]
  },
  {
   "cell_type": "code",
   "execution_count": 16,
   "metadata": {},
   "outputs": [],
   "source": [
    "## getter method gets/returns the value of a private/protected attribute\n",
    "## setter method sets/changes the value of a private/protected attribute\n",
    "class SuperHero:\n",
    "    def __init__(self, name: str, power_level: int):\n",
    "        self.__name = name                # private attribute\n",
    "        self.__power_level = power_level  # private attribute\n",
    "    \n",
    "    # method to get power_level\n",
    "    def get_power_level(self):      \n",
    "        return self.__power_level\n",
    "    \n",
    "    # method to set power_level\n",
    "    def set_power_level(self, new_level: int):  \n",
    "        self.__power_level = new_level"
   ]
  },
  {
   "cell_type": "markdown",
   "metadata": {},
   "source": [
    "### Class Attributes"
   ]
  },
  {
   "cell_type": "code",
   "execution_count": 26,
   "metadata": {},
   "outputs": [],
   "source": [
    "## class attribute,instance attribute\n",
    "## class method,static method,instance method"
   ]
  },
  {
   "cell_type": "code",
   "execution_count": 17,
   "metadata": {},
   "outputs": [
    {
     "name": "stdout",
     "output_type": "stream",
     "text": [
      "Heroes ready to face Thanos: 2\n"
     ]
    }
   ],
   "source": [
    "## class attributes are ** shared across all the instances of the class **.\n",
    "## we can access class attributes by calling class name not instance name\n",
    "class Superhero:\n",
    "    hero_count = 0      # Class attribute\n",
    "    def __init__(self, name: str, power: str):\n",
    "        self.name = name      # Instance attribute\n",
    "        self.power = power    # Instance attribute\n",
    "        Superhero.hero_count += 1\n",
    "\n",
    "iron_man = Superhero(\"Iron Man\", \"repulsor beams\")\n",
    "thor = Superhero(\"Thor\", \"lightning\")\n",
    "print(f\"Heroes ready to face Thanos: {Superhero.hero_count}\")  # This should print 2"
   ]
  },
  {
   "cell_type": "code",
   "execution_count": 18,
   "metadata": {},
   "outputs": [],
   "source": [
    "## class attribute vs instance attribute\n",
    "\n",
    "class BankAccount:\n",
    "    total_account = 0 ## class attribute\n",
    "    total_balancr =0\n",
    "    def __init__(self,name,balance):\n",
    "        self.name = name ## instance attribute\n",
    "        self.balance = balance\n",
    "        BankAccount.total_account += 1\n",
    "        BankAccount.total_balancr += balance\n",
    "\n",
    "## class attribute helps to track banks wide information shared across wide accounts\n",
    "## instance attribute helps to track information that is unique to each account"
   ]
  },
  {
   "cell_type": "code",
   "execution_count": 21,
   "metadata": {},
   "outputs": [
    {
     "name": "stdout",
     "output_type": "stream",
     "text": [
      "All heroes now at training level 1\n",
      "All heroes now at training level 2\n"
     ]
    }
   ],
   "source": [
    "## class method works on entire class rather than individual instances\n",
    "## it uses cls as first parameter instead self.\n",
    "class SuperHero:\n",
    "    training_level = 0\n",
    "    def __init__(self,name,power):\n",
    "        self.name = name\n",
    "        self.power = power\n",
    "\n",
    "    @classmethod\n",
    "    def upgrade_level(cls):\n",
    "        cls.training_level += 1\n",
    "        print(f\"All heroes now at training level {cls.training_level}\")\n",
    "\n",
    "SuperHero.upgrade_level()\n",
    "SuperHero.upgrade_level()"
   ]
  },
  {
   "cell_type": "code",
   "execution_count": 25,
   "metadata": {},
   "outputs": [
    {
     "name": "stdout",
     "output_type": "stream",
     "text": [
      "True\n",
      "False\n",
      "Value Error\n"
     ]
    }
   ],
   "source": [
    "## static method are same as class method but they do not have access to 'cls' or 'self'\n",
    "## static method can only access the the class attributes,it can not access instance attribute\n",
    "class Superhero:\n",
    "    def __init__(self, name: str, power: str):\n",
    "        if not self.is_valid_power(power):\n",
    "            print(\"Value Error\")\n",
    "        self.name = name        # Instance attribute\n",
    "        self.power = power      # Instance attribute\n",
    "    \n",
    "    @staticmethod\n",
    "    def is_valid_power(power: str) -> bool:\n",
    "        valid_powers = ['Flying', 'Strength', 'Speed', 'Intelligence']\n",
    "        for valid_power in valid_powers:\n",
    "            if power == valid_power:\n",
    "                return True\n",
    "        return False\n",
    "\n",
    "print(Superhero.is_valid_power('Flying'))         # True\n",
    "print(Superhero.is_valid_power('Mind Reading'))   # False\n",
    "iron_man = Superhero(\"Iron Man\", \"Flying\")        # Works\n",
    "mind_reader = Superhero(\"Hero\", \"Mind Reading\")   # Raises ValueError"
   ]
  },
  {
   "cell_type": "markdown",
   "metadata": {},
   "source": [
    "### Inheritance"
   ]
  },
  {
   "cell_type": "code",
   "execution_count": 27,
   "metadata": {},
   "outputs": [
    {
     "name": "stdout",
     "output_type": "stream",
     "text": [
      "Iron Man can fly using repulsor beams\n"
     ]
    }
   ],
   "source": [
    "## inheritance in oop helps us to create **new class based on existing class**\n",
    "## the new class is known as child class\n",
    "## child class inherits properties and methods of the existing class that is known as Parent class\n",
    "class Superhero:\n",
    "    def __init__(self, name, power):\n",
    "        self.name = name\n",
    "        self.power = power\n",
    "\n",
    "class Avenger(Superhero):\n",
    "    def fly(self):\n",
    "        print(f\"{self.name} can fly using {self.power}\")\n",
    "\n",
    "iron_man = Avenger(\"Iron Man\", \"repulsor beams\")\n",
    "iron_man.fly()"
   ]
  },
  {
   "cell_type": "code",
   "execution_count": 28,
   "metadata": {},
   "outputs": [],
   "source": [
    "## method overriding is to **change the behavior of a method in child class**\n",
    "class Superhero:\n",
    "    def __init__(self, name):\n",
    "        self.name = name\n",
    "    def fight(self):\n",
    "        print(\"Superhero fights with advanced weapons!\")\n",
    "        \n",
    "class Avenger(Superhero):\n",
    "    # Override the fight method\n",
    "    def fight(self):\n",
    "        print(\"Avenger fights with advanced weapons!\")"
   ]
  },
  {
   "cell_type": "code",
   "execution_count": 29,
   "metadata": {},
   "outputs": [
    {
     "name": "stdout",
     "output_type": "stream",
     "text": [
      "This is the parent class method\n",
      "This is the child class method\n"
     ]
    }
   ],
   "source": [
    "## super() is in built function \n",
    "## it allows to call methods from parent class\n",
    "## often used when we want to extend rather than completely replace\n",
    "## super.__init__() call init method from parent class\n",
    "class ParentClass:\n",
    "    def parent_method(self) -> None:\n",
    "        print(\"This is the parent class method\")\n",
    "\n",
    "class ChildClass(ParentClass):\n",
    "    def child_method(self) -> None:\n",
    "        super().parent_method()\n",
    "        print(\"This is the child class method\")\n",
    "\n",
    "Childclass = ChildClass()\n",
    "Childclass.child_method()"
   ]
  },
  {
   "cell_type": "code",
   "execution_count": 30,
   "metadata": {},
   "outputs": [
    {
     "name": "stdout",
     "output_type": "stream",
     "text": [
      "Swimming\n",
      "Flying\n"
     ]
    }
   ],
   "source": [
    "## multiple inheritance\n",
    "## class can inherit attribute or methods from more than one parent class\n",
    "class Swimmer:\n",
    "    def swim(self):\n",
    "        print(\"Swimming\")\n",
    "\n",
    "class Flyer:\n",
    "    def fly(self):\n",
    "        print(\"Flying\")\n",
    "\n",
    "# Ducks inherits from both Swimmer and Flyer\n",
    "class Duck(Swimmer, Flyer):  \n",
    "    pass\n",
    "\n",
    "duck = Duck() \n",
    "duck.swim() # Should print \"Swimming\"\n",
    "duck.fly()  # Should print \"Flying\""
   ]
  },
  {
   "cell_type": "markdown",
   "metadata": {},
   "source": [
    "### Polymorphism"
   ]
  },
  {
   "cell_type": "code",
   "execution_count": 32,
   "metadata": {},
   "outputs": [],
   "source": [
    "## ploy --> many morphism --> forms\n",
    "## object of **different classes can be treated together** even if they have **different attribute and methods**\n",
    "## in python polymorphism can be attained using **method overriding and duck typing**"
   ]
  },
  {
   "cell_type": "code",
   "execution_count": 43,
   "metadata": {},
   "outputs": [
    {
     "name": "stdout",
     "output_type": "stream",
     "text": [
      "Iron Man uses repulsor beams\n",
      "Thor uses hammer\n"
     ]
    }
   ],
   "source": [
    "## run time polymorphism\n",
    "## achived during program execution\n",
    "## can be achieved using method overriding and duck typing\n",
    "## duck typing --> flexibility,less code,loose coupling\n",
    "class Superhero:\n",
    "    def __init__(self,name,power):\n",
    "        self.name = name\n",
    "        self.power = power\n",
    "    \n",
    "    def special_power(self):\n",
    "        pass\n",
    "\n",
    "## method overriding\n",
    "class IronMan(SuperHero):\n",
    "    def special_power(self):\n",
    "        print(f\"{self.name} uses {self.power}\")\n",
    "\n",
    "class Thor(Superhero):\n",
    "    def special_power(self):\n",
    "        print(f\"{self.name} uses {self.power}\")\n",
    "\n",
    "## duck typing\n",
    "def display_power(hero:SuperHero):\n",
    "    hero.special_power()\n",
    "\n",
    "iron_man = IronMan(\"Iron Man\", \"repulsor beams\")\n",
    "thor = Thor(\"Thor\", \"hammer\")\n",
    "display_power(iron_man)  \n",
    "display_power(thor)      "
   ]
  },
  {
   "cell_type": "code",
   "execution_count": 44,
   "metadata": {},
   "outputs": [
    {
     "name": "stdout",
     "output_type": "stream",
     "text": [
      "15\n",
      "30\n",
      "50\n",
      "3\n"
     ]
    }
   ],
   "source": [
    "## compile time polymorphism\n",
    "## achieved during compilation time\n",
    "## achieved using method overloading\n",
    "## method overloading - allows class to have multiple methods with same name but diffrent parameters\n",
    "class Calculator:\n",
    "    # Method 1: Default arguments\n",
    "    def add(self, a, b, c=0):\n",
    "        return a + b + c\n",
    "\n",
    "    # Method 2: Variable-length arguments\n",
    "    def add_multiple(self, *args):\n",
    "        return sum(args)\n",
    "\n",
    "calc = Calculator()\n",
    "print(calc.add(5, 10))        # Output: 15\n",
    "print(calc.add(5, 10, 15))    # Output: 30\n",
    "print(calc.add_multiple(5, 10, 15, 20))    # Output: 50\n",
    "print(calc.add_multiple(1, 2))             # Output: 3"
   ]
  },
  {
   "cell_type": "markdown",
   "metadata": {},
   "source": [
    "### Abstraction"
   ]
  },
  {
   "cell_type": "code",
   "execution_count": 49,
   "metadata": {},
   "outputs": [
    {
     "name": "stdout",
     "output_type": "stream",
     "text": [
      "77.0\n"
     ]
    }
   ],
   "source": [
    "## hiding complex details and showing only the necessary features to the outside world\n",
    "## data abstraction is done through Private Variable.\n",
    "class TempConverter:\n",
    "    def __init__(self, celsius):\n",
    "        self._celsius = celsius    # Hidden internal state\n",
    "    \n",
    "    def get_fahrenheit(self) -> float:\n",
    "        return (self._celsius * 9/5) + 32\n",
    "\n",
    "temp = TempConverter(25)\n",
    "print(temp.get_fahrenheit())  # 77.0\n",
    "\n",
    "## get_farenhite is a **public interface** that **abstracts away** internal implementation details\n",
    "## internal variable _celcius is hidden from users"
   ]
  },
  {
   "cell_type": "code",
   "execution_count": 46,
   "metadata": {},
   "outputs": [],
   "source": [
    "## Abstraction Vs Encapsulation\n",
    "## abstraction is the process of identifying essential features and hiding unnecessary details.\n",
    "## encapsulation is the process of wrapping variables and methods in a single entity.\n",
    "## abstraction focus on **what the object does at high level**\n",
    "## encapsulation focus on **how the data object can be accessed and modified**\n",
    "## purpose : abstarction --> simplifying the view of complex system \n",
    "## purpose : encapsulation --> data hiding and bundling"
   ]
  },
  {
   "cell_type": "code",
   "execution_count": 52,
   "metadata": {},
   "outputs": [],
   "source": [
    "## abstract method : method that is declared in base class but contain no implementation in base class.implemented in child class\n",
    "## abstract class : class that contain more than one abstract method\n",
    "from abc import ABC, abstractmethod\n",
    "\n",
    "class Superhero(ABC):\n",
    "    def __init__(self, name):\n",
    "        self._name = name\n",
    "\n",
    "    def get_name(self) -> str: # public methods\n",
    "        return self._name\n",
    "\n",
    "    @abstractmethod\n",
    "    def fly(self) -> str:\n",
    "        pass\n",
    "\n",
    "class Superman(Superhero):\n",
    "    def fly(self) -> str:\n",
    "        return \"Up up and away!\""
   ]
  },
  {
   "cell_type": "code",
   "execution_count": 53,
   "metadata": {},
   "outputs": [],
   "source": [
    "## interface is same as abstract class\n",
    "## difference is interface can **only contain abstarct methods**\n",
    "## but abstract class can contain both **abstract and discrete methods**"
   ]
  },
  {
   "cell_type": "code",
   "execution_count": null,
   "metadata": {},
   "outputs": [],
   "source": []
  }
 ],
 "metadata": {
  "kernelspec": {
   "display_name": "Python 3",
   "language": "python",
   "name": "python3"
  },
  "language_info": {
   "codemirror_mode": {
    "name": "ipython",
    "version": 3
   },
   "file_extension": ".py",
   "mimetype": "text/x-python",
   "name": "python",
   "nbconvert_exporter": "python",
   "pygments_lexer": "ipython3",
   "version": "3.9.6"
  }
 },
 "nbformat": 4,
 "nbformat_minor": 2
}
