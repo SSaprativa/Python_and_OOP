{
 "cells": [
  {
   "cell_type": "code",
   "execution_count": 1,
   "metadata": {},
   "outputs": [],
   "source": [
    "## min heap : root smallest in tree\n",
    "## structure prop : complete binary tree\n",
    "## order prop : every value in left and right subtree greater than equal to root node"
   ]
  },
  {
   "cell_type": "code",
   "execution_count": 4,
   "metadata": {},
   "outputs": [
    {
     "name": "stdout",
     "output_type": "stream",
     "text": [
      "3\n",
      "3\n",
      "3\n",
      "5\n",
      "6\n"
     ]
    }
   ],
   "source": [
    "## k th largest element in stream(array element continously coming)\n",
    "import heapq\n",
    "class KthLargest:\n",
    "    def __init__(self,nums,k):\n",
    "        self.minHeap = nums\n",
    "        self.k = k\n",
    "        heapq.heapify(self.minHeap)\n",
    "        while len(self.minHeap)>self.k:\n",
    "            heapq.heappop(self.minHeap)\n",
    "    \n",
    "    def add(self,val):\n",
    "        heapq.heappush(self.minHeap,val)\n",
    "        if len(self.minHeap)>self.k:\n",
    "            heapq.heappop(self.minHeap)\n",
    "        return self.minHeap[0]\n",
    "\n",
    "kthLargest = KthLargest([1, 2, 3, 3],3)\n",
    "print(kthLargest.add(3))   # Output: 3\n",
    "print(kthLargest.add(5))   # Output: 3\n",
    "print(kthLargest.add(6))   # Output: 3\n",
    "print(kthLargest.add(7))   # Output: 5\n",
    "print(kthLargest.add(8))   # Output: 6"
   ]
  },
  {
   "cell_type": "code",
   "execution_count": 6,
   "metadata": {},
   "outputs": [
    {
     "name": "stdout",
     "output_type": "stream",
     "text": [
      "1\n"
     ]
    }
   ],
   "source": [
    "## heaviest two stones and smash them together. Suppose the heaviest two stones have weights x and y with x <= y.\n",
    "## If x == y, both stones are destroyed, and\n",
    "## If x != y, the stone of weight x is destroyed, and the stone of weight y has new weight y - x.\n",
    "## At the end of the game, there is at most one stone left.\n",
    "## Return the weight of the last remaining stone. If there are no stones left, return 0.\n",
    "import heapq\n",
    "def last_stone_weight(stones):\n",
    "    stones = [-s for s in stones]\n",
    "    heapq.heapify(stones)\n",
    "    while len(stones)>1:\n",
    "        f = heapq.heappop(stones)\n",
    "        s = heapq.heappop(stones)\n",
    "        if s>f:\n",
    "            heapq.heappush(stones,f-s)\n",
    "    stones.append(0)\n",
    "    return abs(stones[0])\n",
    "\n",
    "stones = [2,7,4,1,8,1]\n",
    "print(last_stone_weight(stones))"
   ]
  },
  {
   "cell_type": "code",
   "execution_count": 8,
   "metadata": {},
   "outputs": [
    {
     "name": "stdout",
     "output_type": "stream",
     "text": [
      "[[3, 3], [-2, 4]]\n"
     ]
    }
   ],
   "source": [
    "## k closest point from origin\n",
    "import heapq\n",
    "def k_closest_points(points,k):\n",
    "    minHeap = []\n",
    "    for x,y in points:\n",
    "        dist = (x**2)+(y**2)\n",
    "        minHeap.append([dist,x,y])\n",
    "    heapq.heapify(minHeap)\n",
    "    res = []\n",
    "    while len(minHeap) >= k:\n",
    "        dist,x,y = heapq.heappop(minHeap)\n",
    "        res.append([x,y])\n",
    "    return res\n",
    "\n",
    "points = [[3,3],[5,-1],[-2,4]]\n",
    "k = 2\n",
    "print(k_closest_points(points,k))"
   ]
  },
  {
   "cell_type": "code",
   "execution_count": null,
   "metadata": {},
   "outputs": [],
   "source": []
  }
 ],
 "metadata": {
  "kernelspec": {
   "display_name": "Python 3",
   "language": "python",
   "name": "python3"
  },
  "language_info": {
   "codemirror_mode": {
    "name": "ipython",
    "version": 3
   },
   "file_extension": ".py",
   "mimetype": "text/x-python",
   "name": "python",
   "nbconvert_exporter": "python",
   "pygments_lexer": "ipython3",
   "version": "3.9.6"
  }
 },
 "nbformat": 4,
 "nbformat_minor": 2
}
