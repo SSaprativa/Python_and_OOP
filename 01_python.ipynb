{
 "cells": [
  {
   "cell_type": "markdown",
   "metadata": {},
   "source": [
    "##### Sorting"
   ]
  },
  {
   "cell_type": "code",
   "execution_count": 2,
   "metadata": {},
   "outputs": [
    {
     "name": "stdout",
     "output_type": "stream",
     "text": [
      "[1, 2, 3, 4]\n"
     ]
    }
   ],
   "source": [
    "## ascending order ## inplace\n",
    "## return value is None\n",
    "## can also work with string --> lexicographic order\n",
    "n = [3, 1, 4, 2]\n",
    "n.sort()\n",
    "print(n) "
   ]
  },
  {
   "cell_type": "code",
   "execution_count": 4,
   "metadata": {},
   "outputs": [
    {
     "name": "stdout",
     "output_type": "stream",
     "text": [
      "[4, 3, 2, 1]\n"
     ]
    }
   ],
   "source": [
    "## descending order\n",
    "n = [3, 1, 4, 2]\n",
    "n.sort(reverse=True)\n",
    "print(n)"
   ]
  },
  {
   "cell_type": "code",
   "execution_count": 5,
   "metadata": {},
   "outputs": [
    {
     "name": "stdout",
     "output_type": "stream",
     "text": [
      "['pie', 'book', 'banana', 'Washington']\n"
     ]
    }
   ],
   "source": [
    "## custom sort\n",
    "## sorting based on the word length ascending order\n",
    "def get_len(word):\n",
    "    return len(word)\n",
    "words = ['banana', 'pie', 'Washington', 'book']\n",
    "words.sort(key=get_len)\n",
    "print(words)"
   ]
  },
  {
   "cell_type": "code",
   "execution_count": 6,
   "metadata": {},
   "outputs": [
    {
     "name": "stdout",
     "output_type": "stream",
     "text": [
      "[-4, -3, 2, 1]\n"
     ]
    }
   ],
   "source": [
    "## sorted copy --> returns the new list of values sorted in specific order\n",
    "## takes list of numbers and returns descending order of its absolute value\n",
    "def sort_abs_descending(numbers):\n",
    "    return sorted(numbers,key=abs, reverse=True)\n",
    "numbers = [-4, 1, -3, 2]\n",
    "print(sort_abs_descending(numbers))"
   ]
  },
  {
   "cell_type": "markdown",
   "metadata": {},
   "source": [
    "##### Pythonic Code"
   ]
  },
  {
   "cell_type": "code",
   "execution_count": 11,
   "metadata": {},
   "outputs": [
    {
     "name": "stdout",
     "output_type": "stream",
     "text": [
      "1 2 3 6\n"
     ]
    }
   ],
   "source": [
    "## unpacking\n",
    "x,y,z = [1,2,3]\n",
    "print(x,y,z,x+y+z)"
   ]
  },
  {
   "cell_type": "code",
   "execution_count": 13,
   "metadata": {},
   "outputs": [
    {
     "name": "stdout",
     "output_type": "stream",
     "text": [
      "1 2\n",
      "3 4\n",
      "5 6\n"
     ]
    }
   ],
   "source": [
    "## unpacking loop\n",
    "list = [(1,2), (3,4), (5,6)]\n",
    "for x,y in list:\n",
    "    print(x,y)"
   ]
  },
  {
   "cell_type": "code",
   "execution_count": 14,
   "metadata": {},
   "outputs": [
    {
     "name": "stdout",
     "output_type": "stream",
     "text": [
      "{0: 'a', 1: 'b', 2: 'c'}\n"
     ]
    }
   ],
   "source": [
    "## enumerate --> index and value\n",
    "list = ['a', 'b', 'c']\n",
    "res = {}\n",
    "for i,n in enumerate(list):\n",
    "    res[i] = n\n",
    "print(res)"
   ]
  },
  {
   "cell_type": "code",
   "execution_count": 16,
   "metadata": {},
   "outputs": [
    {
     "name": "stdout",
     "output_type": "stream",
     "text": [
      "[['a', 1], ['b', 2], ['c', 3]]\n"
     ]
    }
   ],
   "source": [
    "## zip --> combine two lists\n",
    "list1 = ['a', 'b', 'c']\n",
    "list2 = [1, 2, 3]\n",
    "res = []\n",
    "for x,y in zip(list1,list2):\n",
    "    curr = [x,y]\n",
    "    res.append(curr)\n",
    "print(res)"
   ]
  },
  {
   "cell_type": "markdown",
   "metadata": {},
   "source": [
    "##### List"
   ]
  },
  {
   "cell_type": "code",
   "execution_count": 26,
   "metadata": {},
   "outputs": [
    {
     "name": "stdout",
     "output_type": "stream",
     "text": [
      "[3, 4, 1, 2, 3, 5, 2, 2, 4, 1, 3, 4, 2, 4, 3, 2, 10]\n",
      "[3, 4, 1, 2, 3, 5, 2, 2, 4, 1, 3, 4, 2, 4, 3, 2]\n",
      "[3, 1, 2, 3, 5, 2, 2, 4, 1, 3, 4, 2, 4, 3, 2]\n",
      "[1, 2, 3, 5, 2, 2, 4, 1, 3, 4, 2, 4, 3, 2]\n",
      "[1, 12, 2, 3, 5, 2, 2, 4, 1, 3, 4, 2, 4, 3, 2]\n",
      "2\n"
     ]
    }
   ],
   "source": [
    "# append(ele) --> add element at end of list---> O(1)\n",
    "# pop(),pop(index),remove(ele) --> remove element --> first occurence of element--> O(n)\n",
    "# insert(index,ele) --> add element at a specific index -->O(n)\n",
    "# index(ele) --> find first occurence of a element--> O(n)\n",
    "list = [3,4,1,2,3,5,2,2,4,1,3,4,2,4,3,2]\n",
    "list.append(10)\n",
    "print(list)\n",
    "list.pop()\n",
    "print(list)\n",
    "list.pop(1)\n",
    "print(list)\n",
    "list.remove(3)\n",
    "print(list)\n",
    "list.insert(1,12)\n",
    "print(list)\n",
    "print(list.index(2))"
   ]
  },
  {
   "cell_type": "code",
   "execution_count": 27,
   "metadata": {},
   "outputs": [
    {
     "name": "stdout",
     "output_type": "stream",
     "text": [
      "not present\n"
     ]
    }
   ],
   "source": [
    "# in operator\n",
    "if 10 in list:\n",
    "    print(\"present\")\n",
    "else:\n",
    "    print(\"not present\")"
   ]
  },
  {
   "cell_type": "code",
   "execution_count": 28,
   "metadata": {},
   "outputs": [
    {
     "name": "stdout",
     "output_type": "stream",
     "text": [
      "[1, 2, 3, 4, 5, 6]\n"
     ]
    }
   ],
   "source": [
    "## merge list\n",
    "arr1 = [1,2,3]\n",
    "arr2 = [4,5,6]\n",
    "res = arr1+arr2\n",
    "print(res)"
   ]
  },
  {
   "cell_type": "code",
   "execution_count": 29,
   "metadata": {},
   "outputs": [
    {
     "data": {
      "text/plain": [
       "[0, 0, 0]"
      ]
     },
     "execution_count": 29,
     "metadata": {},
     "output_type": "execute_result"
    }
   ],
   "source": [
    "## list initialisation \n",
    "my_list = [0]*3\n",
    "my_list"
   ]
  },
  {
   "cell_type": "code",
   "execution_count": 32,
   "metadata": {},
   "outputs": [
    {
     "name": "stdout",
     "output_type": "stream",
     "text": [
      "[1, 2, 3, 4, 5]\n",
      "[[1, 2], [3, 4]]\n"
     ]
    }
   ],
   "source": [
    "## list clone \n",
    "## copy() method\n",
    "## copy.deepcopy() --> for list of objects\n",
    "list = [1,2,3,4,5]\n",
    "list_copy = list.copy()\n",
    "print(list_copy)\n",
    "list2 = [[1,2],[3,4]]\n",
    "import copy\n",
    "list2_copy = copy.deepcopy(list2)\n",
    "print(list2_copy)"
   ]
  },
  {
   "cell_type": "code",
   "execution_count": 33,
   "metadata": {},
   "outputs": [
    {
     "name": "stdout",
     "output_type": "stream",
     "text": [
      "[0, 1, 2, 3, 4, 5, 6, 7, 8, 9]\n",
      "[8, 10, 12, 14, 16, 18]\n",
      "[2, 4, 6]\n"
     ]
    }
   ],
   "source": [
    "## list comprehension\n",
    "list1 = [i for i in range(10)]\n",
    "print(list1)\n",
    "\n",
    "arr1 = [1,2,3,4,5,6]\n",
    "arr2 = [7,8,9,10,11,12]\n",
    "list2 = [i+j for i,j in zip(arr1,arr2)]\n",
    "print(list2)\n",
    "\n",
    "list3 = [i for i in arr1 if i%2==0]\n",
    "print(list3)"
   ]
  },
  {
   "cell_type": "markdown",
   "metadata": {},
   "source": [
    "##### Stack and Queue"
   ]
  },
  {
   "cell_type": "code",
   "execution_count": 35,
   "metadata": {},
   "outputs": [
    {
     "name": "stdout",
     "output_type": "stream",
     "text": [
      "[1, 2, 3]\n",
      "3\n",
      "[]\n"
     ]
    }
   ],
   "source": [
    "## Stack like list -->append(),pop()....,[-1],len()\n",
    "stack=[]\n",
    "stack.append(1)\n",
    "stack.append(2)\n",
    "stack.append(3)\n",
    "print(stack)\n",
    "print(stack[-1])\n",
    "while len(stack)>0:\n",
    "    stack.pop()\n",
    "print(stack)"
   ]
  },
  {
   "cell_type": "code",
   "execution_count": 36,
   "metadata": {},
   "outputs": [
    {
     "name": "stdout",
     "output_type": "stream",
     "text": [
      "deque([1, 2, 3, 4, 5])\n",
      "1\n",
      "deque([2, 3, 4, 5])\n",
      "4\n"
     ]
    }
   ],
   "source": [
    "## queue\n",
    "## append()--> O(1)--> append right\n",
    "## popleft() --> O(n)\n",
    "## len() --> O(1)\n",
    "from collections import deque\n",
    "queue = deque([1,2,3])\n",
    "queue.append(4)\n",
    "queue.append(5)\n",
    "print(queue)\n",
    "print(queue.popleft())\n",
    "print(queue)\n",
    "print(len(queue))"
   ]
  },
  {
   "cell_type": "code",
   "execution_count": 37,
   "metadata": {},
   "outputs": [
    {
     "name": "stdout",
     "output_type": "stream",
     "text": [
      "deque([5, 4, 1, 2, 3])\n",
      "3\n",
      "deque([5, 4, 1, 2])\n"
     ]
    }
   ],
   "source": [
    "## deque --> double ended queue\n",
    "## pop()\n",
    "## appendleft()\n",
    "from collections import deque\n",
    "queue = deque([1,2,3])\n",
    "queue.appendleft(4)\n",
    "queue.appendleft(5)\n",
    "print(queue)\n",
    "print(queue.pop())  \n",
    "print(queue)"
   ]
  },
  {
   "cell_type": "markdown",
   "metadata": {},
   "source": [
    "##### 2D-List"
   ]
  },
  {
   "cell_type": "code",
   "execution_count": 43,
   "metadata": {},
   "outputs": [
    {
     "name": "stdout",
     "output_type": "stream",
     "text": [
      "[9, 10]\n",
      "6\n",
      "[8, 9, 10, 11]\n"
     ]
    }
   ],
   "source": [
    "## nested list ## indexing -->[0],[0][1],...\n",
    "nested_list = [[5, 6, 2, 8], [9], [9, 10], [11, 10, 11]]\n",
    "print(nested_list[2])\n",
    "print(nested_list[0][1])\n",
    "max_list = []\n",
    "for i in nested_list:\n",
    "    res = 0\n",
    "    for j in i:\n",
    "        res = max(res,j)\n",
    "    max_list.append(res)\n",
    "print(max_list)"
   ]
  },
  {
   "cell_type": "code",
   "execution_count": 47,
   "metadata": {},
   "outputs": [
    {
     "name": "stdout",
     "output_type": "stream",
     "text": [
      "[[0, 2, 0, 2, 0, 2], [0, 2, 0, 2, 0, 2]]\n",
      "2\n",
      "6\n"
     ]
    }
   ],
   "source": [
    "## 2d grid \n",
    "grid = [[0,2]*3]*2\n",
    "print(grid)\n",
    "print(len(grid)) # row\n",
    "print(len(grid[0])) # column"
   ]
  },
  {
   "cell_type": "code",
   "execution_count": 48,
   "metadata": {},
   "outputs": [
    {
     "name": "stdout",
     "output_type": "stream",
     "text": [
      "[[0, 0, 0], [0, 0, 0]]\n"
     ]
    }
   ],
   "source": [
    "# nested list comprehension\n",
    "grid = [[0 for j in range(3)] for i in range(2)]\n",
    "print(grid)"
   ]
  },
  {
   "cell_type": "markdown",
   "metadata": {},
   "source": [
    "##### Hashmap"
   ]
  },
  {
   "cell_type": "code",
   "execution_count": 52,
   "metadata": {},
   "outputs": [
    {
     "name": "stdout",
     "output_type": "stream",
     "text": [
      "{'a': 1}\n",
      "2\n",
      "{'b': 2}\n",
      "not present\n"
     ]
    }
   ],
   "source": [
    "## insertion --> map[key] = value\n",
    "hashmap = {}\n",
    "hashmap['a'] = 1\n",
    "print(hashmap)\n",
    "## access --> map[key]\n",
    "hashmap = {'a': 1, 'b': 2}\n",
    "print(hashmap['b'])\n",
    "## deletion --> map.pop(key)\n",
    "hashmap.pop('a') \n",
    "print(hashmap)\n",
    "## lookup --> in operator in Key value\n",
    "if 'a' in hashmap:\n",
    "    print(\"present\")\n",
    "else:\n",
    "    print(\"not present\")"
   ]
  },
  {
   "cell_type": "code",
   "execution_count": 63,
   "metadata": {},
   "outputs": [
    {
     "name": "stdout",
     "output_type": "stream",
     "text": [
      "defaultdict(<class 'int'>, {'h': 1, 'e': 1, 'l': 3, 'o': 2, 'w': 1, 'r': 1, 'd': 1})\n"
     ]
    }
   ],
   "source": [
    "## default dictionary\n",
    "## keys are the characters in the string and the values are the number of times each character appears \n",
    "from collections import defaultdict\n",
    "string = \"helloworld\"\n",
    "hashmap = defaultdict(int)\n",
    "for char in string:\n",
    "    hashmap[char] += 1\n",
    "print(hashmap)"
   ]
  },
  {
   "cell_type": "code",
   "execution_count": 70,
   "metadata": {},
   "outputs": [
    {
     "name": "stdout",
     "output_type": "stream",
     "text": [
      "{1: [1, 2, 3], 4: [4, 5, 6], 7: [7, 8]}\n"
     ]
    }
   ],
   "source": [
    "## keys are the first element of each list and the values are the rest of the elements in the list.\n",
    "from collections import defaultdict\n",
    "data = [[1, 2, 3], [4, 5, 6], [7, 8]]\n",
    "hashmap = defaultdict()\n",
    "for i in data:\n",
    "    hashmap[i[0]]=i\n",
    "print(dict(hashmap))"
   ]
  },
  {
   "cell_type": "code",
   "execution_count": 72,
   "metadata": {},
   "outputs": [
    {
     "name": "stdout",
     "output_type": "stream",
     "text": [
      "Counter({1: 2, 2: 2, 3: 2, 4: 1, 5: 1})\n",
      "Counter({1: 3, 2: 3, 3: 3, 4: 1, 5: 1})\n"
     ]
    }
   ],
   "source": [
    "## counter\n",
    "from collections import Counter\n",
    "list = [1,2,3,4,5,1,2,3]\n",
    "counter = Counter(list)\n",
    "print(counter)\n",
    "list2 = [1,2,3]\n",
    "counter.update(list2)\n",
    "print(counter)"
   ]
  },
  {
   "cell_type": "code",
   "execution_count": 73,
   "metadata": {},
   "outputs": [
    {
     "name": "stdout",
     "output_type": "stream",
     "text": [
      "{1: 1, 2: 4, 3: 9, 4: 16}\n"
     ]
    }
   ],
   "source": [
    "## dict comprehension\n",
    "nums = [1,2,3,4]\n",
    "sqr_dict = {i:i**2 for i in nums}\n",
    "print(sqr_dict)"
   ]
  },
  {
   "cell_type": "code",
   "execution_count": 76,
   "metadata": {},
   "outputs": [
    {
     "name": "stdout",
     "output_type": "stream",
     "text": [
      "dict_items([('a', 1), ('b', 2), ('c', 3)])\n",
      "dict_keys(['a', 'b', 'c'])\n",
      "dict_values([1, 2, 3])\n",
      "a 1\n",
      "b 2\n",
      "c 3\n"
     ]
    }
   ],
   "source": [
    "## dict items\n",
    "## dict keys\n",
    "dict = {'a': 1, 'b': 2, 'c': 3}\n",
    "print(dict.items())\n",
    "print(dict.keys())\n",
    "print(dict.values())\n",
    "for key,val in dict.items():\n",
    "    print(key,val)"
   ]
  },
  {
   "cell_type": "markdown",
   "metadata": {},
   "source": [
    "##### Hashset"
   ]
  },
  {
   "cell_type": "code",
   "execution_count": 81,
   "metadata": {},
   "outputs": [
    {
     "name": "stdout",
     "output_type": "stream",
     "text": [
      "{1, 2, 3, 4}\n",
      "{2, 3, 4}\n",
      "{2, 3, 4}\n",
      "{3, 4}\n",
      "present\n"
     ]
    }
   ],
   "source": [
    "## insert --> .add(ele)\n",
    "## remove --> .remove(ele) .discard(ele) \n",
    "## lookup --> in \n",
    "myset = set([1,2,3])\n",
    "myset.add(4)\n",
    "print(myset)\n",
    "myset.remove(1)\n",
    "print(myset)\n",
    "myset.discard(1) # no error\n",
    "print(myset)\n",
    "myset.discard(2)\n",
    "print(myset)\n",
    "if 3 in myset:\n",
    "    print(\"present\")"
   ]
  },
  {
   "cell_type": "code",
   "execution_count": 82,
   "metadata": {},
   "outputs": [
    {
     "name": "stdout",
     "output_type": "stream",
     "text": [
      "{16, 1, 4, 9}\n"
     ]
    }
   ],
   "source": [
    "## set comprehension\n",
    "nums = [1,2,3,4]\n",
    "sqr = {i**2 for i in nums}\n",
    "print(sqr)"
   ]
  },
  {
   "cell_type": "markdown",
   "metadata": {},
   "source": [
    "##### Heap and Priority Queue"
   ]
  },
  {
   "cell_type": "code",
   "execution_count": 88,
   "metadata": {},
   "outputs": [
    {
     "name": "stdout",
     "output_type": "stream",
     "text": [
      "[1, 3, 2]\n",
      "1\n",
      "2\n",
      "[3]\n",
      "[1, 2, 3, 7, 4, 5, 10, 8, 12]\n",
      "1\n"
     ]
    }
   ],
   "source": [
    "## min heap\n",
    "## insert --> heapq.heappush(heap, ele)\n",
    "## remove --> heapq.heappop(heap) --> remove the smallest element\n",
    "## heapify --> heapq.heapify(list) --> convert list to heap\n",
    "import heapq\n",
    "heap = []\n",
    "heapq.heappush(heap, 3)\n",
    "heapq.heappush(heap, 1)\n",
    "heapq.heappush(heap, 2)\n",
    "print(heap)\n",
    "print(heapq.heappop(heap))\n",
    "print(heapq.heappop(heap))\n",
    "print(heap)\n",
    "nums = [3,8,1,2,4,5,10,7,12]\n",
    "heapq.heapify(nums)\n",
    "print(nums)\n",
    "print(heapq.heappop(nums))"
   ]
  },
  {
   "cell_type": "code",
   "execution_count": 93,
   "metadata": {},
   "outputs": [
    {
     "name": "stdout",
     "output_type": "stream",
     "text": [
      "[12, 10, 8, 7, 3, 1, 5, 2, 4]\n",
      "12\n",
      "10\n",
      "8\n",
      "7\n",
      "5\n",
      "4\n",
      "3\n",
      "2\n",
      "1\n"
     ]
    }
   ],
   "source": [
    "## max heap\n",
    "nums = [3,8,1,2,4,5,10,7,12]\n",
    "max_heap = []\n",
    "for num in nums:\n",
    "    heapq.heappush(max_heap, -num)\n",
    "m_heap = [-num for num in max_heap]\n",
    "print(m_heap)\n",
    "while max_heap:\n",
    "    print(-heapq.heappop(max_heap))"
   ]
  },
  {
   "cell_type": "code",
   "execution_count": 99,
   "metadata": {},
   "outputs": [
    {
     "name": "stdout",
     "output_type": "stream",
     "text": [
      "[1, 2, 3]\n",
      "[12, 10, 8]\n"
     ]
    }
   ],
   "source": [
    "## n smallest and n largest\n",
    "import heapq\n",
    "nums = [3,8,1,2,4,5,10,7,12]\n",
    "print(heapq.nsmallest(3, nums))\n",
    "print(heapq.nlargest(3, nums))"
   ]
  },
  {
   "cell_type": "code",
   "execution_count": null,
   "metadata": {},
   "outputs": [],
   "source": []
  }
 ],
 "metadata": {
  "kernelspec": {
   "display_name": "Python 3",
   "language": "python",
   "name": "python3"
  },
  "language_info": {
   "codemirror_mode": {
    "name": "ipython",
    "version": 3
   },
   "file_extension": ".py",
   "mimetype": "text/x-python",
   "name": "python",
   "nbconvert_exporter": "python",
   "pygments_lexer": "ipython3",
   "version": "3.9.6"
  }
 },
 "nbformat": 4,
 "nbformat_minor": 2
}
